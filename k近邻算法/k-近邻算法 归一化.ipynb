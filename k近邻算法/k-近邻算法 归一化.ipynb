{
 "cells": [
  {
   "cell_type": "markdown",
   "metadata": {},
   "source": [
    "# k-近邻算法 无归一化"
   ]
  },
  {
   "cell_type": "markdown",
   "metadata": {},
   "source": [
    "飞机里程数 对于结果的影响 远大于 其他两个，原因 仅仅是 里程数 远大于 其他两个。\n",
    "\n",
    "但，这三个特征值 是 同等重要的"
   ]
  },
  {
   "cell_type": "markdown",
   "metadata": {},
   "source": [
    "归一化，将取值范围 处理为0到1之间， 或者 -1到1之间"
   ]
  },
  {
   "cell_type": "code",
   "execution_count": 2,
   "metadata": {},
   "outputs": [],
   "source": [
    "from collections import Counter\n",
    "import operator\n",
    "\n",
    "def k_Nearest_Neighbor(group,labels,new,k):\n",
    "    all_error = []\n",
    "    for i,j in zip(group,labels):\n",
    "        sum_sq = sum([(i[k]-new[k])**2 for k in range(len(i))])\n",
    "        error = sum_sq**0.5\n",
    "        all_error.append([error,j])\n",
    "    #print(\"all_error\\n\",all_error)\n",
    "    all_error.sort()\n",
    "    #print(\"sorted all_error\\n\",all_error)\n",
    "    #print(\"all_error[:k]\\n\",all_error[:k])\n",
    "    \n",
    "    first_k_labels = [i[1] for i in all_error[:k]]\n",
    "    print(\"first_k_labels\\n\",first_k_labels)\n",
    "        \n",
    "    label_counter = Counter(first_k_labels)\n",
    "    \n",
    "    #label_counter = {\"a\":2,\"b\":4,\"c\":1,\"d\":4}\n",
    "    print(\"label_counter\\n\",label_counter)\n",
    "    max_value = max(label_counter.items(), key=operator.itemgetter(1))[1]\n",
    "    print(\"max_value\",max_value)\n",
    "    max_labels = []\n",
    "    for key,value in label_counter.items():\n",
    "        if value == max_value:\n",
    "            max_labels.append(key)\n",
    " \n",
    "    print(\"max_labels\\n\",max_labels)\n",
    "    return max_labels"
   ]
  },
  {
   "cell_type": "code",
   "execution_count": 8,
   "metadata": {},
   "outputs": [
    {
     "name": "stdout",
     "output_type": "stream",
     "text": [
      "[[4.0920000e+04 8.3269760e+00 9.5395200e-01]\n",
      " [1.4488000e+04 7.1534690e+00 1.6739040e+00]\n",
      " [2.6052000e+04 1.4418710e+00 8.0512400e-01]\n",
      " [7.5136000e+04 1.3147394e+01 4.2896400e-01]\n",
      " [3.8344000e+04 1.6697880e+00 1.3429600e-01]]\n",
      "['3' '2' '1' '1' '1']\n"
     ]
    }
   ],
   "source": [
    "# Input\n",
    "import numpy as np\n",
    "group = []\n",
    "labels = []\n",
    "with open(\"datingTestSet2.txt\") as f:\n",
    "    for i in f:\n",
    "        instance = i.split()\n",
    "        for i in range(3):\n",
    "            instance[i] = float(instance[i])\n",
    "        group.append(instance[:3])\n",
    "        labels.append(instance[3])\n",
    "group = np.array(group)\n",
    "labels = np.array(labels)\n",
    "print(group[:5])\n",
    "print(labels[:5])"
   ]
  },
  {
   "cell_type": "code",
   "execution_count": 18,
   "metadata": {},
   "outputs": [
    {
     "name": "stdout",
     "output_type": "stream",
     "text": [
      "91273.0 0.0\n",
      "20.919349 0.0\n",
      "1.695517 0.001156\n"
     ]
    }
   ],
   "source": [
    "# 错误过程\n",
    "# 应直接使用 矩阵变换，而不是 遍历\n",
    "def normalize(group):\n",
    "    for i in range(len(group[0])):\n",
    "        maxVal = group[:,i].max()\n",
    "        minVal = group[:,i].min()\n",
    "        print(maxVal,minVal)\n",
    "normalize(group)"
   ]
  }
 ],
 "metadata": {
  "kernelspec": {
   "display_name": "Python 3",
   "language": "python",
   "name": "python3"
  },
  "language_info": {
   "codemirror_mode": {
    "name": "ipython",
    "version": 3
   },
   "file_extension": ".py",
   "mimetype": "text/x-python",
   "name": "python",
   "nbconvert_exporter": "python",
   "pygments_lexer": "ipython3",
   "version": "3.6.4"
  }
 },
 "nbformat": 4,
 "nbformat_minor": 2
}
